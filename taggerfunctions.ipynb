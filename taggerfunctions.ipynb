{
 "metadata": {
  "name": ""
 },
 "nbformat": 3,
 "nbformat_minor": 0,
 "worksheets": [
  {
   "cells": [
    {
     "cell_type": "markdown",
     "metadata": {},
     "source": [
      "define tagger by hand as tagger supplied with NLTK is too slow"
     ]
    },
    {
     "cell_type": "markdown",
     "metadata": {},
     "source": [
      "taken from \n",
      "http://streamhacker.com/2008/11/03/part-of-speech-tagging-with-nltk-part-1/\n",
      "http://streamhacker.com/2008/11/10/part-of-speech-tagging-with-nltk-part-2/\n",
      "http://streamhacker.com/2008/12/03/part-of-speech-tagging-with-nltk-part-3/"
     ]
    },
    {
     "cell_type": "code",
     "collapsed": false,
     "input": [
      "import pandas as pd\n",
      "import numpy as np\n",
      "import re\n",
      "import string\n",
      "import time\n",
      "from bs4 import BeautifulSoup\n",
      "import nltk, itertools\n",
      "from nltk.tag import brill\n",
      "import nltk.stem.wordnet\n",
      "from nltk.corpus import wordnet"
     ],
     "language": "python",
     "metadata": {},
     "outputs": [],
     "prompt_number": 1
    },
    {
     "cell_type": "code",
     "collapsed": false,
     "input": [
      "def get_wordnet_pos(treebank_tag):\n",
      "\n",
      "    if treebank_tag.startswith('J'):\n",
      "        return wordnet.ADJ\n",
      "    elif treebank_tag.startswith('V'):\n",
      "        return wordnet.VERB\n",
      "    elif treebank_tag.startswith('N'):\n",
      "        return wordnet.NOUN\n",
      "    elif treebank_tag.startswith('R'):\n",
      "        return wordnet.ADV\n",
      "    else:\n",
      "        return ''"
     ],
     "language": "python",
     "metadata": {},
     "outputs": []
    },
    {
     "cell_type": "code",
     "collapsed": false,
     "input": [
      "def braubt_Tagger():\n",
      "    treebank_sents = nltk.corpus.treebank.tagged_sents()\n",
      "    treebank_train = list(treebank_sents[:1500])\n",
      "    treebank_test = list(treebank_sents[1500:3000])\n",
      "    \n",
      "    train_sents = treebank_train\n",
      "    test_sents = treebank_test\n",
      "    \n",
      "    def backoff_tagger(tagged_sents, tagger_classes, backoff=None):\n",
      "        if not backoff:\n",
      "            backoff = tagger_classes[0](tagged_sents)\n",
      "            del tagger_classes[0]\n",
      "     \n",
      "        for cls in tagger_classes:\n",
      "            tagger = cls(tagged_sents, backoff=backoff)\n",
      "            backoff = tagger\n",
      "     \n",
      "        return backoff\n",
      "\n",
      "    word_patterns = [(r'^-?[0-9]+(.[0-9]+)?$', 'CD'), (r'.*ould$', 'MD'), (r'.*ing$', 'VBG'), \n",
      "    (r'.*ed$', 'VBD'), (r'.*ness$', 'NN'), (r'.*ment$', 'NN'), (r'.*ful$', 'JJ'), \n",
      "    (r'.*ious$', 'JJ'), (r'.*ble$', 'JJ'), (r'.*ic$', 'JJ'), (r'.*ive$', 'JJ'),\n",
      "    (r'.*ic$', 'JJ'), (r'.*est$', 'JJ'), (r'^a$', 'PREP'),]\n",
      "    \n",
      "    raubt_tagger = backoff_tagger(train_sents, [nltk.tag.AffixTagger, \n",
      "        nltk.tag.UnigramTagger, nltk.tag.BigramTagger, nltk.tag.TrigramTagger],backoff=nltk.tag.RegexpTagger(word_patterns))\n",
      "    \n",
      "    templates = [brill.SymmetricProximateTokensTemplate(brill.ProximateTagsRule, (1,1)),\n",
      "    brill.SymmetricProximateTokensTemplate(brill.ProximateTagsRule, (2,2)),\n",
      "    brill.SymmetricProximateTokensTemplate(brill.ProximateTagsRule, (1,2)),\n",
      "    brill.SymmetricProximateTokensTemplate(brill.ProximateTagsRule, (1,3)),\n",
      "    brill.SymmetricProximateTokensTemplate(brill.ProximateWordsRule, (1,1)),\n",
      "    brill.SymmetricProximateTokensTemplate(brill.ProximateWordsRule, (2,2)),\n",
      "    brill.SymmetricProximateTokensTemplate(brill.ProximateWordsRule, (1,2)),\n",
      "    brill.SymmetricProximateTokensTemplate(brill.ProximateWordsRule, (1,3)),\n",
      "    brill.ProximateTokensTemplate(brill.ProximateTagsRule, (-1, -1), (1,1)),\n",
      "    brill.ProximateTokensTemplate(brill.ProximateWordsRule, (-1, -1), (1,1))\n",
      "    ]\n",
      "    \n",
      "    trainer = brill.FastBrillTaggerTrainer(raubt_tagger, templates)\n",
      "    braubt_tagger = trainer.train(train_sents, max_rules=100, min_score=3)\n",
      "    \n",
      "    return braubt_tagger"
     ],
     "language": "python",
     "metadata": {},
     "outputs": []
    }
   ],
   "metadata": {}
  }
 ]
}