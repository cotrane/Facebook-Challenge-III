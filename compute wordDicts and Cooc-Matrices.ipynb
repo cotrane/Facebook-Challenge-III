{
 "metadata": {
  "name": ""
 },
 "nbformat": 3,
 "nbformat_minor": 0,
 "worksheets": [
  {
   "cells": [
    {
     "cell_type": "code",
     "collapsed": false,
     "input": [
      "import pandas as pd\n",
      "import numpy as np\n",
      "import nltk\n",
      "import time\n",
      "import csv\n",
      "from bs4 import BeautifulSoup\n",
      "from scipy.sparse import *\n",
      "from scipy.io import mmwrite, mmread\n",
      "from ast import literal_eval\n",
      "import itertools\n",
      "from itertools import izip\n",
      "from taggerfunctions import *\n",
      "from nltk.stem.wordnet import WordNetLemmatizer"
     ],
     "language": "python",
     "metadata": {},
     "outputs": [],
     "prompt_number": 1
    },
    {
     "cell_type": "code",
     "collapsed": false,
     "input": [
      "uselesssymbols = ['. ','\\n',\"'\",'\\\"','(',')',',',';',':','?','!','&','$']\n",
      "def tokenizeWords(entry):\n",
      "    entryselect = []\n",
      "    soup = BeautifulSoup(entry)\n",
      "    for tag in soup.find_all([\"pre\", \"code\", \"a\", \"img\"]):\n",
      "        tag.decompose()\n",
      "    entry = soup.get_text().encode('ascii', 'ignore')\n",
      "    for symbol in uselesssymbols:\n",
      "        entry = entry.replace(symbol, ' ')\n",
      "    entrytok = nltk.word_tokenize(entry)\n",
      "    entrytok = [w.lower() for w in entrytok]\n",
      "    return tag_pos(entrytok)"
     ],
     "language": "python",
     "metadata": {},
     "outputs": [],
     "prompt_number": 2
    },
    {
     "cell_type": "code",
     "collapsed": false,
     "input": [
      "def tag_pos(entrytok):\n",
      "    entryselect = []\n",
      "    entrytoktag = braubt_tagger.tag(entrytok)\n",
      "    for tok, tag in entrytoktag:\n",
      "        if tag not in ('VBP', 'CC', 'CD', 'RB', 'TO', 'VB', 'DT', 'IN', 'PRP', 'VBZ', 'WDT', '-NONE-'):\n",
      "            try:\n",
      "                tok_lemmatized = lemmatizer.lemmatize(tok, get_wordnet_pos(tag))\n",
      "            except:\n",
      "                tok_lemmatized = lemmatizer.lemmatize(tok)\n",
      "            entryselect.append(tok_lemmatized)\n",
      "    return entryselect"
     ],
     "language": "python",
     "metadata": {},
     "outputs": [],
     "prompt_number": 3
    },
    {
     "cell_type": "code",
     "collapsed": false,
     "input": [
      "braubt_tagger = braubt_Tagger()"
     ],
     "language": "python",
     "metadata": {},
     "outputs": [],
     "prompt_number": 4
    },
    {
     "cell_type": "code",
     "collapsed": false,
     "input": [
      "def getDict(fname):\n",
      "    dictWords = {}\n",
      "    with open(fname, 'r') as f:\n",
      "        reader = csv.reader(f)\n",
      "        dictWords = {rows[0]:literal_eval(rows[1]) for rows in reader}\n",
      "    return pd.Series(dictWords)\n",
      "\n",
      "def getSeries(fname, fromRow, toRow):\n",
      "    dictWords = {}\n",
      "    rowNum = 0\n",
      "    with open(fname, 'r') as f:\n",
      "        reader = csv.reader(f)\n",
      "        for row in reader:\n",
      "            if fromRow <= rowNum and rowNum < toRow:\n",
      "                dictWords[literal_eval(row[0])] = literal_eval(row[1])\n",
      "            if rowNum == toRow:\n",
      "                return pd.Series(dictWords)\n",
      "            rowNum += 1\n",
      "    return pd.Series(dictWords)"
     ],
     "language": "python",
     "metadata": {},
     "outputs": [],
     "prompt_number": 5
    },
    {
     "cell_type": "heading",
     "level": 3,
     "metadata": {},
     "source": [
      "compute keyword frequencies"
     ]
    },
    {
     "cell_type": "code",
     "collapsed": false,
     "input": [
      "reader = pd.read_csv(\"train.csv\", verbose=True, chunksize=100000)\n",
      "kwlist = []\n",
      "for chunk in reader:\n",
      "    for entry in chunk['Tags']:\n",
      "        kwlist.extend(entry.split())\n",
      "kwDist = nltk.FreqDist(kwlist)"
     ],
     "language": "python",
     "metadata": {},
     "outputs": []
    },
    {
     "cell_type": "code",
     "collapsed": false,
     "input": [
      "kwDist_series = pd.Series(kwDist)"
     ],
     "language": "python",
     "metadata": {},
     "outputs": [],
     "prompt_number": 14
    },
    {
     "cell_type": "code",
     "collapsed": false,
     "input": [
      "kwDist_series.to_csv(\"kwDist.csv\")"
     ],
     "language": "python",
     "metadata": {},
     "outputs": [],
     "prompt_number": 16
    },
    {
     "cell_type": "code",
     "collapsed": false,
     "input": [
      "kwDist = {}\n",
      "with open('kwDist.csv', 'r') as f:\n",
      "    reader = csv.reader(f)\n",
      "    kwDist = {rows[0]:literal_eval(rows[1]) for rows in reader}\n",
      "kwDist = pd.Series(kwDist)"
     ],
     "language": "python",
     "metadata": {},
     "outputs": [],
     "prompt_number": 17
    },
    {
     "cell_type": "code",
     "collapsed": false,
     "input": [
      "kwDist.plot(50)"
     ],
     "language": "python",
     "metadata": {},
     "outputs": [
      {
       "metadata": {},
       "output_type": "display_data",
       "png": "[encoded data removed]",
       "text": [
        "<matplotlib.figure.Figure at 0x15017e050>"
       ]
      }
     ],
     "prompt_number": 21
    },
    {
     "cell_type": "heading",
     "level": 3,
     "metadata": {},
     "source": [
      "create dict for Keywords"
     ]
    },
    {
     "cell_type": "code",
     "collapsed": false,
     "input": [
      "dictKeys = dict(zip(kwDist.keys(),range(0,len(kwDist))))"
     ],
     "language": "python",
     "metadata": {},
     "outputs": []
    },
    {
     "cell_type": "code",
     "collapsed": false,
     "input": [
      "dictKeys = pd.Series(dictKeys)"
     ],
     "language": "python",
     "metadata": {},
     "outputs": [],
     "prompt_number": 195
    },
    {
     "cell_type": "code",
     "collapsed": false,
     "input": [
      "dictKeys.to_csv(\"dictKeys.csv\")"
     ],
     "language": "python",
     "metadata": {},
     "outputs": [],
     "prompt_number": 108
    },
    {
     "cell_type": "heading",
     "level": 5,
     "metadata": {},
     "source": [
      "read in dictKeys:"
     ]
    },
    {
     "cell_type": "code",
     "collapsed": false,
     "input": [
      "dictKeys = {}\n",
      "with open('dictKeys.csv', 'r') as f:\n",
      "    reader = csv.reader(f)\n",
      "    dictKeys = {rows[0]:literal_eval(rows[1]) for rows in reader}\n",
      "dictKeys = pd.Series(dictKeys)"
     ],
     "language": "python",
     "metadata": {},
     "outputs": [],
     "prompt_number": 5
    },
    {
     "cell_type": "heading",
     "level": 4,
     "metadata": {},
     "source": [
      "create inverse dict for Keywords:"
     ]
    },
    {
     "cell_type": "code",
     "collapsed": false,
     "input": [
      "invdictKeys = {}\n",
      "for key, value in dictKeys.iteritems():\n",
      "    invdictKeys[value] = key\n",
      "invdictKeys = pd.Series(invdictKeys)"
     ],
     "language": "python",
     "metadata": {},
     "outputs": [],
     "prompt_number": 6
    },
    {
     "cell_type": "code",
     "collapsed": false,
     "input": [
      "invdictKeys.to_csv(\"invdictKeys.csv\")"
     ],
     "language": "python",
     "metadata": {},
     "outputs": [],
     "prompt_number": 7
    },
    {
     "cell_type": "heading",
     "level": 3,
     "metadata": {},
     "source": [
      "compute the number of distinct words in set of titles and create dict for distinct Words"
     ]
    },
    {
     "cell_type": "code",
     "collapsed": false,
     "input": [
      "distinctWords = dict()\n",
      "with open(\"tWordsnew.csv\", \"r\") as f:\n",
      "    reader = csv.reader(f)\n",
      "    for rows in reader:\n",
      "        entrylst = literal_eval(rows[1])\n",
      "        for word in entrylst:\n",
      "            if word not in distinctWords:\n",
      "                distinctWords[word] = 1\n",
      "            else:\n",
      "                distinctWords[word] += 1"
     ],
     "language": "python",
     "metadata": {},
     "outputs": [],
     "prompt_number": 6
    },
    {
     "cell_type": "code",
     "collapsed": false,
     "input": [
      "distinctWords2 = {key:value for key, value in distinctWords.iteritems() if value > 10}"
     ],
     "language": "python",
     "metadata": {},
     "outputs": [],
     "prompt_number": 8
    },
    {
     "cell_type": "code",
     "collapsed": false,
     "input": [
      "dWords = pd.Series(distinctWords2)"
     ],
     "language": "python",
     "metadata": {},
     "outputs": [],
     "prompt_number": 10
    },
    {
     "cell_type": "code",
     "collapsed": false,
     "input": [
      "dictWords = dict(zip(dWords.keys(),range(0,len(dWords))))"
     ],
     "language": "python",
     "metadata": {},
     "outputs": [],
     "prompt_number": 12
    },
    {
     "cell_type": "code",
     "collapsed": false,
     "input": [
      "dictWords = pd.Series(dictWords)"
     ],
     "language": "python",
     "metadata": {},
     "outputs": [],
     "prompt_number": 13
    },
    {
     "cell_type": "code",
     "collapsed": false,
     "input": [
      "dictWords.to_csv(\"dictWordsTitleNew.csv\")"
     ],
     "language": "python",
     "metadata": {},
     "outputs": [],
     "prompt_number": 14
    },
    {
     "cell_type": "code",
     "collapsed": false,
     "input": [
      "dictWords = {}\n",
      "with open('dictWords.csv', 'r') as f:\n",
      "    reader = csv.reader(f)\n",
      "    dictWords = {rows[0]:literal_eval(rows[1]) for rows in reader}\n",
      "dictWords = pd.Series(dictWords)"
     ],
     "language": "python",
     "metadata": {},
     "outputs": [],
     "prompt_number": 9
    },
    {
     "cell_type": "code",
     "collapsed": false,
     "input": [
      "invdictWords = dict(zip(range(0,len(dWords)), dWords.keys()))\n",
      "invdictWords = pd.Series(invdictWords)"
     ],
     "language": "python",
     "metadata": {},
     "outputs": [],
     "prompt_number": 15
    },
    {
     "cell_type": "code",
     "collapsed": false,
     "input": [
      "invdictWords = {}\n",
      "for key, value in dictWords.iteritems():\n",
      "    invdictWords[value] = key\n",
      "invdictWords = pd.Series(invdictWords)"
     ],
     "language": "python",
     "metadata": {},
     "outputs": [],
     "prompt_number": 10
    },
    {
     "cell_type": "code",
     "collapsed": false,
     "input": [
      "invdictWords.to_csv(\"invdictWordsNew.csv\")"
     ],
     "language": "python",
     "metadata": {},
     "outputs": [],
     "prompt_number": 16
    },
    {
     "cell_type": "heading",
     "level": 3,
     "metadata": {},
     "source": [
      "create dictionary for distinct words for body of question:"
     ]
    },
    {
     "cell_type": "code",
     "collapsed": false,
     "input": [
      "distinctWordsBody = dict()\n",
      "with open(\"bWords_0-638582.csv\", \"r\") as f:\n",
      "    reader = csv.reader(f)\n",
      "    for rows in reader:\n",
      "        entrylst = literal_eval(rows[1])\n",
      "        for word in entrylst:\n",
      "            if word not in distinctWordsBody:\n",
      "                distinctWordsBody[word] = 1\n",
      "            else:\n",
      "                distinctWordsBody[word] += 1"
     ],
     "language": "python",
     "metadata": {},
     "outputs": [],
     "prompt_number": 70
    },
    {
     "cell_type": "code",
     "collapsed": false,
     "input": [
      "distinctWordsBody2 = {key:value for key, value in distinctWordsBody.iteritems() if value > 10}\n",
      "print len(distinctWordsBody2)\n",
      "dWordsBody = pd.Series(distinctWordsBody2)\n",
      "dictWordsBody = dict(zip(dWordsBody.keys(), range(0,len(dWordsBody))))\n",
      "dictWordsBody = pd.Series(dictWordsBody)\n",
      "dictWordsBody.to_csv(\"dictWordsBody_0-638582.csv\")\n",
      "\n",
      "invdictWordsBody = dict(zip(range(0,len(dWordsBody)), dWordsBody.keys()))\n",
      "invdictWordsBody = pd.Series(dictWordsBody)\n",
      "invdictWordsBody.to_csv(\"invdictWordsBody_0-638582.csv\")"
     ],
     "language": "python",
     "metadata": {},
     "outputs": [
      {
       "output_type": "stream",
       "stream": "stdout",
       "text": [
        "42169\n"
       ]
      }
     ],
     "prompt_number": 71
    },
    {
     "cell_type": "code",
     "collapsed": false,
     "input": [
      "fRange = ['0-638582', '600000-1200000', '1200000-1800000','1800000-2400000','2400000-3000000','3000000-3600000',\n",
      "          '3600000-4200000','4200000-4800000','4800000-5400000','5400000-6000000','6000000-6034195']\n",
      "dictWordsBody = dict()\n",
      "for fileRange in fRange:\n",
      "    fname = 'dictWordsBody_' + fileRange + '.csv'\n",
      "    print fname\n",
      "    with open(fname, \"r\") as f:\n",
      "        reader = csv.reader(f)\n",
      "        for rows in reader:\n",
      "            if rows[0] not in dictWordsBody:\n",
      "                dictWordsBody[rows[0]] = literal_eval(rows[1])"
     ],
     "language": "python",
     "metadata": {},
     "outputs": [
      {
       "output_type": "stream",
       "stream": "stdout",
       "text": [
        "dictWordsBody_0-638582.csv\n",
        "dictWordsBody_600000-1200000.csv"
       ]
      },
      {
       "output_type": "stream",
       "stream": "stdout",
       "text": [
        "\n",
        "dictWordsBody_1200000-1800000.csv"
       ]
      },
      {
       "output_type": "stream",
       "stream": "stdout",
       "text": [
        "\n",
        "dictWordsBody_1800000-2400000.csv"
       ]
      },
      {
       "output_type": "stream",
       "stream": "stdout",
       "text": [
        "\n",
        "dictWordsBody_2400000-3000000.csv"
       ]
      },
      {
       "output_type": "stream",
       "stream": "stdout",
       "text": [
        "\n",
        "dictWordsBody_3000000-3600000.csv"
       ]
      },
      {
       "output_type": "stream",
       "stream": "stdout",
       "text": [
        "\n",
        "dictWordsBody_3600000-4200000.csv"
       ]
      },
      {
       "output_type": "stream",
       "stream": "stdout",
       "text": [
        "\n",
        "dictWordsBody_4200000-4800000.csv"
       ]
      },
      {
       "output_type": "stream",
       "stream": "stdout",
       "text": [
        "\n",
        "dictWordsBody_4800000-5400000.csv"
       ]
      },
      {
       "output_type": "stream",
       "stream": "stdout",
       "text": [
        "\n",
        "dictWordsBody_5400000-6000000.csv"
       ]
      },
      {
       "output_type": "stream",
       "stream": "stdout",
       "text": [
        "\n",
        "dictWordsBody_6000000-6034195.csv"
       ]
      },
      {
       "output_type": "stream",
       "stream": "stdout",
       "text": [
        "\n"
       ]
      }
     ],
     "prompt_number": 8
    },
    {
     "cell_type": "code",
     "collapsed": false,
     "input": [
      "dictWordsBody = pd.Series(dictWordsBody)"
     ],
     "language": "python",
     "metadata": {},
     "outputs": [],
     "prompt_number": 10
    },
    {
     "cell_type": "code",
     "collapsed": false,
     "input": [
      "dictWordsBody.to_csv(\"dictWordsBodyFull.csv\")"
     ],
     "language": "python",
     "metadata": {},
     "outputs": [],
     "prompt_number": 11
    },
    {
     "cell_type": "heading",
     "level": 3,
     "metadata": {},
     "source": [
      "compute Co-occurrence matrix cooc as sparse lil matrix for title of train data:"
     ]
    },
    {
     "cell_type": "markdown",
     "metadata": {},
     "source": [
      "careful!! you have to pass the elements to a lil_matrix but if you save it to a file it automatically converts it to a coo_matrix!!!\n",
      "-> save and load before continue using the matrix, otherwise the indices will change the next time!!"
     ]
    },
    {
     "cell_type": "code",
     "collapsed": false,
     "input": [
      "coocMat_lil = lil_matrix( (len(dictKeys),len(dictWords)) )"
     ],
     "language": "python",
     "metadata": {},
     "outputs": [],
     "prompt_number": 80
    },
    {
     "cell_type": "code",
     "collapsed": false,
     "input": [
      "lemmatizer = WordNetLemmatizer()\n",
      "reader = pd.read_csv(\"train.csv\", chunksize=100000)\n",
      "count = 1\n",
      "timeStart = time.time()\n",
      "for chunk in reader:\n",
      "    for tags,entry in zip(chunk['Tags'],chunk['Title']):\n",
      "        entryselect = tokenizeWords(entry)\n",
      "        gen = (word for word in entryselect if word in dictWords.keys())\n",
      "        splitTags = tags.split()\n",
      "        for word in gen:\n",
      "                for tag in splitTags:\n",
      "                    coocMat_lil[dictKeys[tag],dictWords[word]] += 1\n",
      "        if count % 100000 == 0:\n",
      "            print 'entry', count, 'finished'\n",
      "            timeEnd = time.time()\n",
      "            print 'time for 100000 loops:', timeEnd - timeStart\n",
      "            timeStart = time.time()\n",
      "        count += 1"
     ],
     "language": "python",
     "metadata": {},
     "outputs": []
    },
    {
     "cell_type": "code",
     "collapsed": false,
     "input": [
      "mmwrite(\"coocMatTitleNew_coo.mtx\", coocMat_lil)"
     ],
     "language": "python",
     "metadata": {},
     "outputs": [],
     "prompt_number": 82
    },
    {
     "cell_type": "code",
     "collapsed": false,
     "input": [
      "coocMat_coo = mmread(\"coocMat_coo.mtx\")"
     ],
     "language": "python",
     "metadata": {},
     "outputs": [],
     "prompt_number": 4
    },
    {
     "cell_type": "code",
     "collapsed": false,
     "input": [
      "coocMat_csr = coocMat_coo.tocsr()\n",
      "coocMat_csc = coocMat_coo.tocsc()"
     ],
     "language": "python",
     "metadata": {},
     "outputs": [],
     "prompt_number": 5
    },
    {
     "cell_type": "code",
     "collapsed": false,
     "input": [
      "coocMat_coo = None"
     ],
     "language": "python",
     "metadata": {},
     "outputs": [],
     "prompt_number": 92
    },
    {
     "cell_type": "heading",
     "level": 5,
     "metadata": {},
     "source": [
      "for bodyWords"
     ]
    },
    {
     "cell_type": "code",
     "collapsed": false,
     "input": [
      "from collections import Counter"
     ],
     "language": "python",
     "metadata": {},
     "outputs": [],
     "prompt_number": 7
    },
    {
     "cell_type": "code",
     "collapsed": false,
     "input": [
      "lemmatizer = WordNetLemmatizer()\n",
      "count = 1\n",
      "countChunk = 1\n",
      "reader2 = pd.read_csv(\"bWords_5400000-6000000.csv\", header=None, index_col=0, chunksize=100000)\n",
      "reader = pd.read_csv(\"train.csv\", chunksize=100000)\n",
      "fnameDict = 'dictWordsBodyFull.csv'\n",
      "dictWordsBody = getDict(fnameDict)\n",
      "coocMatBody_lil = lil_matrix( (len(dictKeys),len(dictWordsBody)) )\n",
      "timeStart = time.time()\n",
      "dictforMat = Counter()\n",
      "for chunk,chunk2 in izip(reader, reader2):\n",
      "    for tags, entry in zip(chunk['Tags'],chunk2[1]):\n",
      "        set_entry = set(literal_eval(entry))\n",
      "        splitTags = tags.split()\n",
      "        iterWords = list(w for w in set_entry if w in dictWordsBody.keys())\n",
      "        for item in itertools.product(*[splitTags, iterWords]):\n",
      "            #coocMatBody_lil[dictKeys[item[0]],dictWordsBody[item[1]]] += literal_eval(entry).count(item[1])\n",
      "            dictforMat[dictKeys[item[0]],dictWordsBody[item[1]]] += literal_eval(entry).count(item[1])\n",
      "        if count % 100000 == 0:\n",
      "            print(\"entry {0:d} finished\".format(count))\n",
      "            print(\"time for 100000 loops: {0:.0f}s\".format(time.time() - timeStart))\n",
      "            timeStart = time.time()\n",
      "        if count % 600000 == 0:\n",
      "            for key,value in dictforMat.iteritems():\n",
      "                coocMatBody_lil[key] = value\n",
      "            fname = 'coocMatBody_coo_5400000-6000000.mtx'\n",
      "            mmwrite(fname, coocMatBody_lil)\n",
      "        count += 1\n",
      "    countChunk += 1\n",
      "    if countChunk > 6:\n",
      "        break"
     ],
     "language": "python",
     "metadata": {},
     "outputs": []
    },
    {
     "cell_type": "markdown",
     "metadata": {},
     "source": [
      "for last chunk which is smaller than 600000:"
     ]
    },
    {
     "cell_type": "code",
     "collapsed": false,
     "input": [
      "lemmatizer = WordNetLemmatizer()\n",
      "count = 1\n",
      "countChunk = 1\n",
      "reader2 = pd.read_csv(\"bWords_6000000-6034195.csv\", header=None, index_col=0, chunksize=100000)\n",
      "reader = pd.read_csv(\"train.csv\", chunksize=100000)\n",
      "fnameDict = 'dictWordsBodyFull.csv'\n",
      "dictWordsBody = getDict(fnameDict)\n",
      "coocMatBody_lil = lil_matrix( (len(dictKeys),len(dictWordsBody)) )\n",
      "timeStart = time.time()\n",
      "dictforMat = Counter()\n",
      "for chunk,chunk2 in izip(reader, reader2):\n",
      "    for tags, entry in zip(chunk['Tags'],chunk2[1]):\n",
      "        set_entry = set(literal_eval(entry))\n",
      "        splitTags = tags.split()\n",
      "        iterWords = list(w for w in set_entry if w in dictWordsBody.keys())\n",
      "        for item in itertools.product(*[splitTags, iterWords]):\n",
      "            #coocMatBody_lil[dictKeys[item[0]],dictWordsBody[item[1]]] += literal_eval(entry).count(item[1])\n",
      "            dictforMat[dictKeys[item[0]],dictWordsBody[item[1]]] += literal_eval(entry).count(item[1])\n",
      "        if count % 10000 == 0:\n",
      "            print(\"entry {0:d} finished\".format(count))\n",
      "            print(\"time for 10000 loops: {0:.0f}s\".format(time.time() - timeStart))\n",
      "            timeStart = time.time()\n",
      "        if count % 34195 == 0:\n",
      "            for key,value in dictforMat.iteritems():\n",
      "                coocMatBody_lil[key] = value\n",
      "            fname = 'coocMatBody_coo_6000000-6034195.mtx'\n",
      "            mmwrite(fname, coocMatBody_lil)\n",
      "        count += 1\n",
      "    countChunk += 1\n",
      "    if countChunk > 1:\n",
      "        break"
     ],
     "language": "python",
     "metadata": {},
     "outputs": [],
     "prompt_number": 11
    },
    {
     "cell_type": "heading",
     "level": 5,
     "metadata": {},
     "source": [
      "merge co-occurrence matrices of partial train data:"
     ]
    },
    {
     "cell_type": "code",
     "collapsed": false,
     "input": [
      "fRange = ['0-600000', '600000-1200000', '1200000-1800000','1800000-2400000','2400000-3000000','3000000-3600000',\n",
      "          '3600000-4200000','4200000-4800000','4800000-5400000','5400000-6000000','6000000-6034195']\n",
      "dictWordsBody = getDict('dictWordsBodyFull.csv')\n",
      "dictKeys = getDict('dictKeys.csv')\n",
      "coocMatBodyFull_lil = lil_matrix( (len(dictKeys),len(dictWordsBody)) )\n",
      "\n",
      "for r in fRange:\n",
      "    fname = \"coocMatBody_coo_\" + r + \".mtx\"\n",
      "    print(\"adding matrix {0:s}\".format(r))\n",
      "    coocMatBodyPart_coo = mmread(fname)\n",
      "    coocMatBodyPart_csr = coocMatBodyPart_coo.tocsr()\n",
      "    rows,columns = coocMatBodyPart_csr.nonzero()\n",
      "    for row, column in zip(rows,columns):\n",
      "        coocMatBodyFull_lil[row,column] += coocMatBodyPart_csr[row,column]\n",
      "fname = 'coocMatBodyFull_coo.mtx'\n",
      "mmwrite(fname, coocMatBodyFull_lil)"
     ],
     "language": "python",
     "metadata": {},
     "outputs": []
    },
    {
     "cell_type": "code",
     "collapsed": false,
     "input": [
      "coocMatBodyFull_coo = mmread(\"coocMatBodyFull_coo.mtx\")"
     ],
     "language": "python",
     "metadata": {},
     "outputs": [],
     "prompt_number": 6
    },
    {
     "cell_type": "code",
     "collapsed": false,
     "input": [
      "coocMatBodyFull_csr = coocMatBodyFull_coo.tocsr()"
     ],
     "language": "python",
     "metadata": {},
     "outputs": [],
     "prompt_number": 7
    },
    {
     "cell_type": "markdown",
     "metadata": {},
     "source": [
      "different method: load partial coocMatrices, convert them to csr format and then use overloaded addition"
     ]
    },
    {
     "cell_type": "code",
     "collapsed": false,
     "input": [
      "fname = \"coocMatBody_coo_6000000-6034195.mtx\"\n",
      "coocMatBodyPart_coo = mmread(fname)"
     ],
     "language": "python",
     "metadata": {},
     "outputs": [],
     "prompt_number": 27
    },
    {
     "cell_type": "code",
     "collapsed": false,
     "input": [
      "coocMatBodyPart_csr = coocMatBodyPart_coo.tocsr()"
     ],
     "language": "python",
     "metadata": {},
     "outputs": [],
     "prompt_number": 28
    },
    {
     "cell_type": "code",
     "collapsed": false,
     "input": [
      "coocMatBodyFull_csr = coocMatBodyFull_csr + coocMatBodyPart_csr"
     ],
     "language": "python",
     "metadata": {},
     "outputs": [],
     "prompt_number": 29
    },
    {
     "cell_type": "code",
     "collapsed": false,
     "input": [
      "mmwrite('coocMatBodyFull2_csr.mtx', coocMatBodyFull_csr)"
     ],
     "language": "python",
     "metadata": {},
     "outputs": [],
     "prompt_number": 30
    }
   ],
   "metadata": {}
  }
 ]
}