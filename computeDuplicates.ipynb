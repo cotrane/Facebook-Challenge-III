{
 "metadata": {
  "name": ""
 },
 "nbformat": 3,
 "nbformat_minor": 0,
 "worksheets": [
  {
   "cells": [
    {
     "cell_type": "markdown",
     "metadata": {},
     "source": [
      "there are duplicates between train and test set; code below computes those duplicates and stores them in a file"
     ]
    },
    {
     "cell_type": "code",
     "collapsed": false,
     "input": [
      "import pandas as pd\n",
      "import numpy as np\n",
      "import time"
     ],
     "language": "python",
     "metadata": {},
     "outputs": [],
     "prompt_number": 1
    },
    {
     "cell_type": "code",
     "collapsed": false,
     "input": [
      "#duplicates2 = pd.read_csv(\"duplicates.csv\", index_col='Unnamed: 0')\n",
      "reader_train = pd.read_csv(\"Train.csv\", chunksize=200000)\n",
      "count = 1\n",
      "for train in reader_train:\n",
      "    tStart = time.time()\n",
      "    if count > 26:\n",
      "        ordered_train = train.sort(columns='Title')\n",
      "        reader_test = pd.read_csv(\"Test.csv\", chunksize=200000)\n",
      "        for test in reader_test:\n",
      "            ordered_test = test.sort(columns='Title')\n",
      "            duplicates2 = duplicates2.append(pd.merge(ordered_test[['Id','Title']],ordered_train[['Id','Title','Tags']],on='Title'))\n",
      "        duplicates2.to_csv(\"duplicates.csv\")\n",
      "    print(\"finished chunk {0: d} in {1:.0f}s\".format(count, time.time() - tStart))\n",
      "    count +=1"
     ],
     "language": "python",
     "metadata": {},
     "outputs": []
    },
    {
     "cell_type": "code",
     "collapsed": false,
     "input": [
      "duplicates2.to_csv(\"duplicates.csv\")"
     ],
     "language": "python",
     "metadata": {},
     "outputs": [],
     "prompt_number": 23
    },
    {
     "cell_type": "code",
     "collapsed": false,
     "input": [
      "duplicates_sorted = duplicates2.sort(columns='Id_x')"
     ],
     "language": "python",
     "metadata": {},
     "outputs": [],
     "prompt_number": 3
    },
    {
     "cell_type": "code",
     "collapsed": false,
     "input": [
      "duplicates_sorted.to_csv(\"duplicates_sorted.csv\")"
     ],
     "language": "python",
     "metadata": {},
     "outputs": [],
     "prompt_number": 4
    },
    {
     "cell_type": "code",
     "collapsed": false,
     "input": [
      "duplicates = pd.read_csv(\"duplicates_sorted.csv\", index_col='Unnamed: 0')"
     ],
     "language": "python",
     "metadata": {},
     "outputs": []
    },
    {
     "cell_type": "code",
     "collapsed": false,
     "input": [
      "duplicates_single = duplicates.drop_duplicates(cols='Id_x')"
     ],
     "language": "python",
     "metadata": {},
     "outputs": []
    },
    {
     "cell_type": "code",
     "collapsed": false,
     "input": [
      "duplicates_single.to_csv(\"duplicates_single.csv\")"
     ],
     "language": "python",
     "metadata": {},
     "outputs": []
    },
    {
     "cell_type": "heading",
     "level": 5,
     "metadata": {},
     "source": [
      "drop duplicates but retain the last row instead of the first; that should be the one with the most labels....?"
     ]
    },
    {
     "cell_type": "code",
     "collapsed": false,
     "input": [
      "duplicates_single_v2 = duplicates.drop_duplicates(cols='Id_x', take_last=True)"
     ],
     "language": "python",
     "metadata": {},
     "outputs": [],
     "prompt_number": 113
    },
    {
     "cell_type": "code",
     "collapsed": false,
     "input": [
      "duplicates_single_v2.to_csv(\"duplicates_single_v2.csv\")"
     ],
     "language": "python",
     "metadata": {},
     "outputs": [],
     "prompt_number": 114
    }
   ],
   "metadata": {}
  }
 ]
}